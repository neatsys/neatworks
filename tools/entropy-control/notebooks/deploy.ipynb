{
 "cells": [
  {
   "cell_type": "code",
   "execution_count": null,
   "metadata": {},
   "outputs": [],
   "source": [
    "import pandas as pd\n",
    "import seaborn as sns\n",
    "from glob import glob\n",
    "from matplotlib.font_manager import fontManager, FontProperties\n",
    "\n",
    "path = \"/usr/share/fonts/opentype/linux-libertine/LinBiolinum_R.otf\"\n",
    "fontManager.addfont(path)\n",
    "sns.set_theme(style=\"ticks\", font=FontProperties(fname=path).get_name(), font_scale=1.2, palette='flare')\n",
    "\n",
    "frames = [pd.read_csv(data, names=[\n",
    "    \"NEAT\", \"_protocol\", \"chunk_k\", \"chunk_n\", \"chunk_m\", \"k\", \"n\", \"num_peer\", \"num_op\", \"op\", \"latency\", \"url\", \"id\"\n",
    "]) for data in glob('entropy-5.*.txt')]\n",
    "data = pd.concat(frames, ignore_index=True)\n",
    "data = data[data['NEAT'] == 'NEAT']\n",
    "data['latency'] = data['latency'].apply(pd.to_numeric)\n",
    "data"
   ]
  },
  {
   "cell_type": "code",
   "execution_count": null,
   "metadata": {},
   "outputs": [],
   "source": [
    "def outer_code(row):\n",
    "    return f'({row[\"n\"]}, {row[\"k\"]})'\n",
    "data['outer_code'] = data.apply(outer_code, axis=1)\n",
    "def inner_code(row):\n",
    "    return f'({row[\"chunk_n\"]}, {row[\"chunk_k\"]})'\n",
    "data['inner_code'] = data.apply(inner_code, axis=1)\n",
    "def op2(row):\n",
    "    return f'{row[\"_protocol\"]} - {row[\"op\"]}'\n",
    "data['op2'] = data.apply(op2, axis=1)\n",
    "data"
   ]
  },
  {
   "cell_type": "code",
   "execution_count": null,
   "metadata": {},
   "outputs": [],
   "source": [
    "sns.catplot(data=data[data[\"inner_code\"] == \"(80, 32)\"], \n",
    "    kind=\"bar\",\n",
    "    x=\"outer_code\", y=\"latency\", hue=\"op2\",\n",
    "    height=2.56, aspect=2.)"
   ]
  },
  {
   "cell_type": "code",
   "execution_count": null,
   "metadata": {},
   "outputs": [],
   "source": [
    "sns.catplot(data=data[(data[\"outer_code\"] == \"(10, 8)\") & (data[\"_protocol\"] == \"entropy\")], \n",
    "    kind=\"bar\",\n",
    "    x=\"inner_code\", y=\"latency\", hue=\"op2\",\n",
    "    height=2.56, aspect=2.)"
   ]
  }
 ],
 "metadata": {
  "kernelspec": {
   "display_name": "Python 3",
   "language": "python",
   "name": "python3"
  },
  "language_info": {
   "codemirror_mode": {
    "name": "ipython",
    "version": 3
   },
   "file_extension": ".py",
   "mimetype": "text/x-python",
   "name": "python",
   "nbconvert_exporter": "python",
   "pygments_lexer": "ipython3",
   "version": "3.11.2"
  }
 },
 "nbformat": 4,
 "nbformat_minor": 2
}
