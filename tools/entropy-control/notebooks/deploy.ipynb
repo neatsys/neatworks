{
 "cells": [
  {
   "cell_type": "code",
   "execution_count": null,
   "metadata": {},
   "outputs": [],
   "source": [
    "import pandas as pd\n",
    "import seaborn as sns\n",
    "from glob import glob\n",
    "from matplotlib.font_manager import fontManager, FontProperties\n",
    "\n",
    "path = \"/usr/share/fonts/opentype/linux-libertine/LinBiolinum_R.otf\"\n",
    "fontManager.addfont(path)\n",
    "sns.set_theme(style=\"ticks\", font=FontProperties(fname=path).get_name(), font_scale=1.2)\n",
    "\n",
    "frames = [pd.read_csv(data, names=[\n",
    "    \"NEAT\", \"_protocol\", \"chunk_k\", \"chunk_n\", \"chunk_m\", \"k\", \"n\", \"num_peer\", \"num_op\", \"op\", \"latency\", \"url\", \"id\"\n",
    "]) for data in glob('entropy-5.txt')]\n",
    "data = pd.concat(frames, ignore_index=True)\n",
    "data = data[data['NEAT'] == 'NEAT']\n",
    "data['latency'] = data['latency'].apply(pd.to_numeric)\n",
    "data['num_peer'] = data['num_peer'].apply(pd.to_numeric)\n",
    "data"
   ]
  },
  {
   "cell_type": "code",
   "execution_count": null,
   "metadata": {},
   "outputs": [],
   "source": [
    "def outer_code(row):\n",
    "    return f'({row[\"n\"]}, {row[\"k\"]})'\n",
    "data['outer_code'] = data.apply(outer_code, axis=1)\n",
    "def inner_code(row):\n",
    "    return f'({row[\"chunk_n\"]}, {row[\"chunk_k\"]})'\n",
    "data['inner_code'] = data.apply(inner_code, axis=1)\n",
    "def op2(row):\n",
    "    return f'{row[\"_protocol\"]} - {row[\"op\"]}'\n",
    "data['op2'] = data.apply(op2, axis=1)\n",
    "data"
   ]
  },
  {
   "cell_type": "code",
   "execution_count": null,
   "metadata": {},
   "outputs": [],
   "source": [
    "def group(row):\n",
    "    if row['inner_code'] == '(80, 32)':\n",
    "        return row['outer_code']\n",
    "    else:\n",
    "        return '(10, 8)\\n' + row['inner_code']\n",
    "data['group'] = data.apply(group, axis=1)\n",
    "f = sns.catplot(data=data[(data[\"num_peer\"] == 10000)], \n",
    "    kind=\"bar\",\n",
    "    x=\"group\", y=\"latency\", hue=\"op2\",\n",
    "    order=[\"(5, 4)\", \"(10, 8)\", \"(20, 16)\", \"(10, 8)\\n(40, 16)\", \"(10, 8)\\n(160, 64)\"],\n",
    "    height=2.56, aspect=2.)\n",
    "f.set(xlabel = \"Outer Code (and inner code on second line)\")\n",
    "f.set(ylabel=\"Latency (s)\")\n",
    "f._legend.set_title('Operation')\n",
    "f.savefig('latency.pdf')"
   ]
  },
  {
   "cell_type": "code",
   "execution_count": null,
   "metadata": {},
   "outputs": [],
   "source": [
    "sns.catplot(data=data[(data[\"outer_code\"] == \"(10, 8)\") & (data[\"num_peer\"] == 10000) & (data[\"_protocol\"] == \"entropy\")], \n",
    "    kind=\"bar\",\n",
    "    x=\"inner_code\", y=\"latency\", hue=\"op2\",\n",
    "    order=[\"(40, 16)\", \"(80, 32)\", \"(160, 64)\"],\n",
    "    height=2.56, aspect=2.)"
   ]
  },
  {
   "cell_type": "code",
   "execution_count": null,
   "metadata": {},
   "outputs": [],
   "source": [
    "f = sns.relplot(data=data[(data[\"outer_code\"] == \"(10, 8)\") & (data[\"inner_code\"] == \"(80, 32)\")],\n",
    "    kind=\"line\",\n",
    "    x=\"num_peer\", y=\"latency\", hue=\"op2\",\n",
    "    height=2.56, aspect=2.)\n",
    "f.set(xlabel = \"Number of Peers\")\n",
    "f.set(ylabel=\"Latency (s)\")\n",
    "f._legend.set_title('Operation')\n",
    "f.set(ylim=(0, 60))\n",
    "f.savefig('peer.pdf')"
   ]
  },
  {
   "cell_type": "code",
   "execution_count": null,
   "metadata": {},
   "outputs": [],
   "source": [
    "frames = [pd.read_csv(data, names=[\n",
    "    \"NEAT\", \"num_replica\", \"faulty_portion\", \"num_alive\",\n",
    "]) for data in glob('entropy-ipfs-loss.txt')]\n",
    "data = pd.concat(frames, ignore_index=True)\n",
    "data = data[data['NEAT'] == 'NEAT']\n",
    "data['num_replica'] = data['num_replica'].apply(pd.to_numeric)\n",
    "data['faulty_portion'] = data['faulty_portion'].apply(pd.to_numeric)\n",
    "data['num_alive'] = data['num_alive'].apply(pd.to_numeric)\n",
    "data"
   ]
  },
  {
   "cell_type": "code",
   "execution_count": null,
   "metadata": {},
   "outputs": [],
   "source": [
    "sns.relplot(data=data,\n",
    "    kind=\"line\",\n",
    "    x=\"faulty_portion\", y=\"num_alive\", hue=\"num_replica\",\n",
    "    height=2.56, aspect=2.)"
   ]
  },
  {
   "cell_type": "code",
   "execution_count": null,
   "metadata": {},
   "outputs": [],
   "source": [
    "frames = [pd.read_csv(data, names=[\n",
    "    \"NEAT\", \"_protocol\", \"chunk_k\", \"chunk_n\", \"chunk_m\", \"k\", \"n\", \"num_peer\", \"num_op\", \"op\", \"latency\", \"url\", \"id\"\n",
    "]) for data in glob('entropy-1.txt')]\n",
    "data = pd.concat(frames, ignore_index=True)\n",
    "data = data[data['NEAT'] == 'NEAT']\n",
    "data['latency'] = data['latency'].apply(pd.to_numeric)\n",
    "data"
   ]
  },
  {
   "cell_type": "code",
   "execution_count": null,
   "metadata": {},
   "outputs": [],
   "source": [
    "f = sns.relplot(data=data,\n",
    "    kind=\"line\",\n",
    "    x=\"num_op\", y=\"latency\", hue=\"op\",\n",
    "    height=2.56, aspect=2.)"
   ]
  }
 ],
 "metadata": {
  "kernelspec": {
   "display_name": "Python 3",
   "language": "python",
   "name": "python3"
  },
  "language_info": {
   "codemirror_mode": {
    "name": "ipython",
    "version": 3
   },
   "file_extension": ".py",
   "mimetype": "text/x-python",
   "name": "python",
   "nbconvert_exporter": "python",
   "pygments_lexer": "ipython3",
   "version": "3.11.2"
  }
 },
 "nbformat": 4,
 "nbformat_minor": 2
}
