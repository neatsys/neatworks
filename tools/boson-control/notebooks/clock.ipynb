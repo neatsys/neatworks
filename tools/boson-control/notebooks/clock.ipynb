{
 "cells": [
  {
   "cell_type": "code",
   "execution_count": null,
   "metadata": {},
   "outputs": [],
   "source": [
    "import pandas as pd\n",
    "import seaborn as sns\n",
    "from glob import glob\n",
    "import matplotlib.pyplot as plt\n",
    "from matplotlib.font_manager import fontManager, FontProperties\n",
    "\n",
    "path = \"/usr/share/fonts/opentype/linux-libertine/LinBiolinum_R.otf\"\n",
    "fontManager.addfont(path)\n",
    "sns.set_theme(style=\"ticks\", font=FontProperties(fname=path).get_name(), font_scale=1.2)\n",
    "plt.rcParams[\"mathtext.fontset\"] = \"stix\""
   ]
  },
  {
   "cell_type": "markdown",
   "metadata": {},
   "source": [
    "# Circuit Clock\n",
    "WIP artifact evaluation instructions"
   ]
  },
  {
   "cell_type": "code",
   "execution_count": null,
   "metadata": {},
   "outputs": [],
   "source": [
    "circuit_data = pd.concat([pd.read_csv(data, names=[\n",
    "    \"Number of Threads\", \"Number of $id$\", \"Prove Time\"\n",
    "]) for data in glob('saved/clock/circuit-*.txt')], ignore_index=True)\n",
    "circuit_data[\"style\"] = True\n",
    "# circuit_data"
   ]
  },
  {
   "cell_type": "markdown",
   "metadata": {},
   "source": [
    "#### With 64 worker threads"
   ]
  },
  {
   "cell_type": "code",
   "execution_count": null,
   "metadata": {},
   "outputs": [],
   "source": [
    "plt.figure(figsize=(4, 3))\n",
    "f = sns.lineplot(\n",
    "    # data=circuit_data[(circuit_data[\"Number of Threads\"] == 64) & (circuit_data[\"Number of $id$\"] >= 256)], \n",
    "    data=circuit_data[circuit_data[\"Number of Threads\"] == 64], \n",
    "    x=\"Number of $id$\", y=\"Prove Time\", style=\"style\", markers=[\"o\"], legend=False)\n",
    "f.set(ylim=(0, 13.), xscale=\"log\")\n",
    "f.set(ylabel=\"Prove Time (s)\")\n",
    "f.figure.savefig(\"id-prove.pdf\", bbox_inches='tight')"
   ]
  },
  {
   "cell_type": "markdown",
   "metadata": {},
   "source": [
    "#### With 1024 $id$"
   ]
  },
  {
   "cell_type": "code",
   "execution_count": null,
   "metadata": {},
   "outputs": [],
   "source": [
    "plt.figure(figsize=(4, 3))\n",
    "f = sns.lineplot(data=circuit_data[circuit_data[\"Number of $id$\"] == 1024], \n",
    "    x=\"Number of Threads\", y=\"Prove Time\", style=\"style\", markers=[\"o\"], legend=False)\n",
    "f.set(ylim=(0, 18.1))\n",
    "f.set(ylabel=\"Prove Time (s)\")\n",
    "f.figure.savefig(\"thread-prove.pdf\", bbox_inches='tight')\n"
   ]
  },
  {
   "cell_type": "markdown",
   "metadata": {},
   "source": [
    "# Nitro Enclaves Clock\n",
    "WIP artifact evaluation instructions"
   ]
  },
  {
   "cell_type": "code",
   "execution_count": null,
   "metadata": {},
   "outputs": [],
   "source": [
    "quorum_data = pd.read_csv(sorted(glob(\"saved/clock-nitro-enclaves-*.txt\"))[-1], names=[\n",
    "    \"Number of $id$\", \"Number of Merged Clocks\", \"Prove Time\"\n",
    "])\n",
    "quorum_data[\"style\"] = True\n",
    "# nitro_enclaves_data"
   ]
  },
  {
   "cell_type": "markdown",
   "metadata": {},
   "source": [
    "#### Not merging any clock i.e. just incrementing"
   ]
  },
  {
   "cell_type": "code",
   "execution_count": null,
   "metadata": {},
   "outputs": [],
   "source": [
    "plt.figure(figsize=(4, 3))\n",
    "f = sns.lineplot(data=quorum_data[quorum_data[\"Number of Merged Clocks\"] == 0], \n",
    "    x=\"Number of $id$\", y=\"Prove Time\", style=\"style\", markers=[\"o\"], legend=False)\n",
    "f.set(ylim=(0, 0.03), xscale=\"log\")\n",
    "f.set(ylabel=\"Prove Time (s)\")\n",
    "f.figure.savefig(\"id-prove.pdf\", bbox_inches='tight')"
   ]
  },
  {
   "cell_type": "markdown",
   "metadata": {},
   "source": [
    "#### With 1024 $id$"
   ]
  },
  {
   "cell_type": "code",
   "execution_count": null,
   "metadata": {},
   "outputs": [],
   "source": [
    "plt.figure(figsize=(4, 3))\n",
    "f = sns.lineplot(data=quorum_data[quorum_data[\"Number of $id$\"] == 1024], \n",
    "    x=\"Number of Merged Clocks\", y=\"Prove Time\", style=\"style\", markers=[\"o\"], legend=False)\n",
    "f.set(ylim=(0, 0.1))\n",
    "f.set(ylabel=\"Prove Time (s)\")\n",
    "f.figure.savefig(\"thread-prove.pdf\", bbox_inches='tight')"
   ]
  },
  {
   "cell_type": "markdown",
   "metadata": {},
   "source": [
    "# Quorum Clock\n",
    "WIP artifact evaluation instructions"
   ]
  },
  {
   "cell_type": "code",
   "execution_count": null,
   "metadata": {},
   "outputs": [],
   "source": [
    "quorum_data = pd.read_csv(sorted(glob(\"saved/clock-quorum-*.txt\"))[-1], names=[\n",
    "    \"Quorum Size\", \"Number of $id$\", \"Number of Merged Clocks\", \"Prove Time\"\n",
    "])\n",
    "quorum_data[\"style\"] = True\n",
    "# nitro_enclaves_data"
   ]
  },
  {
   "cell_type": "markdown",
   "metadata": {},
   "source": [
    "#### With 1024 $id$, without merging (just incrementing)"
   ]
  },
  {
   "cell_type": "code",
   "execution_count": null,
   "metadata": {},
   "outputs": [],
   "source": [
    "plt.figure(figsize=(4, 3))\n",
    "f = sns.lineplot(\n",
    "    data=quorum_data[(quorum_data[\"Number of $id$\"] == 1024) & (quorum_data[\"Number of Merged Clocks\"] == 0)], \n",
    "    x=\"Quorum Size\", y=\"Prove Time\", style=\"style\", markers=[\"o\"], legend=False)\n",
    "f.set(ylim=(0, 0.005))\n",
    "f.set(ylabel=\"Prove Time (s)\")\n",
    "f.figure.savefig(\"thread-prove.pdf\", bbox_inches='tight')"
   ]
  }
 ],
 "metadata": {
  "kernelspec": {
   "display_name": "Python 3",
   "language": "python",
   "name": "python3"
  },
  "language_info": {
   "codemirror_mode": {
    "name": "ipython",
    "version": 3
   },
   "file_extension": ".py",
   "mimetype": "text/x-python",
   "name": "python",
   "nbconvert_exporter": "python",
   "pygments_lexer": "ipython3",
   "version": "3.10.12"
  }
 },
 "nbformat": 4,
 "nbformat_minor": 2
}
