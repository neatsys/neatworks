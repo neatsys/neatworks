{
 "cells": [
  {
   "cell_type": "code",
   "execution_count": null,
   "metadata": {},
   "outputs": [],
   "source": [
    "import pandas as pd\n",
    "import seaborn as sns\n",
    "from glob import glob\n",
    "import matplotlib.pyplot as plt\n",
    "from matplotlib.font_manager import fontManager, FontProperties\n",
    "\n",
    "path = \"/usr/share/fonts/opentype/linux-libertine/LinBiolinum_R.otf\"\n",
    "fontManager.addfont(path)\n",
    "sns.set_theme(style=\"ticks\", font=FontProperties(fname=path).get_name(), font_scale=1.2)\n",
    "plt.rcParams[\"mathtext.fontset\"] = \"stix\""
   ]
  },
  {
   "cell_type": "markdown",
   "metadata": {},
   "source": [
    "# Circuit Clock\n",
    "WIP artifact evaluation instructions"
   ]
  },
  {
   "cell_type": "code",
   "execution_count": null,
   "metadata": {},
   "outputs": [],
   "source": [
    "circuit_data = pd.concat([pd.read_csv(data, names=[\n",
    "    \"Number of CPUs\", \"Clock Size\", \"Prove Time\"\n",
    "]) for data in glob('saved/clock/circuit-*.txt')], ignore_index=True)\n",
    "circuit_data[\"Number of Merged Clocks\"] = 0\n",
    "circuit_data[\"Quorum Size\"] = 0\n",
    "circuit_data[\"Variant\"] = \"Circuit\"\n",
    "# circuit_data"
   ]
  },
  {
   "cell_type": "markdown",
   "metadata": {},
   "source": [
    "# Nitro Enclaves Clock\n",
    "WIP artifact evaluation instructions"
   ]
  },
  {
   "cell_type": "code",
   "execution_count": null,
   "metadata": {},
   "outputs": [],
   "source": [
    "nitro_enclaves_data = pd.read_csv(sorted(glob(\"saved/clock-nitro-enclaves-*.txt\"))[-1], names=[\n",
    "    \"Clock Size\", \"Number of Merged Clocks\", \"Prove Time\"\n",
    "])\n",
    "nitro_enclaves_data[\"Number of CPUs\"] = 64\n",
    "nitro_enclaves_data[\"Quorum Size\"] = 2\n",
    "nitro_enclaves_data[\"Variant\"] = \"NitroEnclaves\"\n",
    "# nitro_enclaves_data"
   ]
  },
  {
   "cell_type": "markdown",
   "metadata": {},
   "source": [
    "# Quorum Clock\n",
    "WIP artifact evaluation instructions"
   ]
  },
  {
   "cell_type": "code",
   "execution_count": null,
   "metadata": {},
   "outputs": [],
   "source": [
    "quorum_data = pd.read_csv(sorted(glob(\"saved/clock-quorum-*.txt\"))[-1], names=[\n",
    "    \"Number of Faulty\", \"Clock Size\", \"Number of Merged Clocks\", \"Prove Time\"\n",
    "])\n",
    "quorum_data[\"Quorum Size\"] = quorum_data[\"Number of Faulty\"] + 1\n",
    "quorum_data[\"Number of CPUs\"] = 64\n",
    "quorum_data[\"Variant\"] = \"Quorum\""
   ]
  },
  {
   "cell_type": "code",
   "execution_count": null,
   "metadata": {},
   "outputs": [],
   "source": [
    "data = pd.concat([circuit_data, nitro_enclaves_data, quorum_data], ignore_index=True)\n",
    "# data"
   ]
  },
  {
   "cell_type": "code",
   "execution_count": null,
   "metadata": {},
   "outputs": [],
   "source": [
    "f = sns.lineplot(\n",
    "    data=data[(data[\"Number of CPUs\"] == 64) & (data[\"Number of Merged Clocks\"] == 0) & (data[\"Clock Size\"] >= 1 << 2)], \n",
    "    x=\"Clock Size\", y=\"Prove Time\", style=\"Variant\", markers=[\"o\"])\n",
    "f.set(xscale=\"log\", yscale=\"log\")\n",
    "f.set(ylim=(0, 20))"
   ]
  },
  {
   "cell_type": "code",
   "execution_count": null,
   "metadata": {},
   "outputs": [],
   "source": [
    "f = sns.lineplot(\n",
    "    data=data[(data[\"Variant\"] == \"Circuit\") & (data[\"Clock Size\"] == 1024)], \n",
    "    x=\"Number of CPUs\", y=\"Prove Time\", style=\"Variant\", markers=[\"o\"], legend=False)\n",
    "f.set(ylim=(0, 18.1), xscale=\"log\", xticks=[1 << x for x in range(7)], xticklabels=[1 << x for x in range(7)])"
   ]
  },
  {
   "cell_type": "code",
   "execution_count": null,
   "metadata": {},
   "outputs": [],
   "source": [
    "f = sns.lineplot(\n",
    "    data=data[(data[\"Clock Size\"] == 1024) & (data[\"Quorum Size\"] == 2)], \n",
    "    x=\"Number of Merged Clocks\", y=\"Prove Time\", style=\"Variant\", markers=[\"o\"])"
   ]
  },
  {
   "cell_type": "code",
   "execution_count": null,
   "metadata": {},
   "outputs": [],
   "source": [
    "f = sns.lineplot(\n",
    "    data=quorum_data[(quorum_data[\"Variant\"] == \"Quorum\") & (quorum_data[\"Clock Size\"] == 1024) & (quorum_data[\"Number of Merged Clocks\"] == 0)], \n",
    "    x=\"Quorum Size\", y=\"Prove Time\", style=\"Variant\", markers=[\"o\"], legend=False)\n",
    "f.set(ylim=(0, 0.0048))"
   ]
  }
 ],
 "metadata": {
  "kernelspec": {
   "display_name": "Python 3",
   "language": "python",
   "name": "python3"
  },
  "language_info": {
   "codemirror_mode": {
    "name": "ipython",
    "version": 3
   },
   "file_extension": ".py",
   "mimetype": "text/x-python",
   "name": "python",
   "nbconvert_exporter": "python",
   "pygments_lexer": "ipython3",
   "version": "3.10.12"
  }
 },
 "nbformat": 4,
 "nbformat_minor": 2
}
