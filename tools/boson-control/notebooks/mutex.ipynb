{
 "cells": [
  {
   "cell_type": "code",
   "execution_count": null,
   "metadata": {},
   "outputs": [],
   "source": [
    "import pandas as pd\n",
    "import seaborn as sns\n",
    "from glob import glob\n",
    "import matplotlib.pyplot as plt\n",
    "from matplotlib.font_manager import fontManager, FontProperties\n",
    "\n",
    "path = \"/usr/share/fonts/opentype/linux-libertine/LinLibertine_R.otf\"\n",
    "fontManager.addfont(path)\n",
    "sns.set_theme(style=\"ticks\", font=FontProperties(fname=path).get_name(), font_scale=1.7)\n",
    "plt.rcParams[\"mathtext.fontset\"] = \"stix\""
   ]
  },
  {
   "cell_type": "code",
   "execution_count": null,
   "metadata": {},
   "outputs": [],
   "source": [
    "figs = {}\n",
    "data = pd.concat([pd.read_csv(data, names=[\n",
    "    \"Mode\", \"Variant\", \"Number of Processes\", \"Latency\"\n",
    "]) for data in glob('saved/mutex/*.txt')], ignore_index=True)\n",
    "def official_variant(row):\n",
    "    return {\"Untrusted\": \"Unsafe\", \"Replicated\": \"PBFT\", \"Quorum\": \"COVER$_{Q}$\", \"NitroEnclaves\": \"COVER$_{NE}$\"}[row.at[\"Variant\"]]\n",
    "data[\"Variant2\"] = data.apply(official_variant, axis=1)\n",
    "# data"
   ]
  },
  {
   "cell_type": "markdown",
   "metadata": {},
   "source": [
    "# Latency distribution of every processor requesting once\n",
    "\n",
    "Notice the significant larger spans of replicated. All requesting are concurrent while there is a sequential causality chain of processor#1 requested-processor#1 releasing-processor#2 requested-processor#2 releasing-processor#3 requested-... since the first processor is granted with the resource. The large spans are clear indicator of replicated being a more serial system."
   ]
  },
  {
   "cell_type": "code",
   "execution_count": null,
   "metadata": {},
   "outputs": [],
   "source": [
    "# plt.figure(figsize=(12, 3))\n",
    "f = sns.pointplot(data=data[data[\"Mode\"] == \"All\"],\n",
    "    x=\"Number of Processes\", y=\"Latency\", hue=\"Variant2\", \n",
    "    errorbar=\"sd\",\n",
    "    hue_order=[\"Unsafe\", \"PBFT\", \"COVER$_{Q}$\", \"COVER$_{NE}$\"])\n",
    "f.get_legend().remove()\n",
    "# sns.move_legend(f, \"upper right\")\n",
    "f.set(ylabel=\"Latency (s)\", ylim=(0, 19.9))\n",
    "f.set(xticks=[2 * x + 1 for x in range(8)])\n",
    "figs[\"mutex-all\"] = f"
   ]
  },
  {
   "cell_type": "markdown",
   "metadata": {},
   "source": [
    "# Latency of only one processor requesting"
   ]
  },
  {
   "cell_type": "code",
   "execution_count": null,
   "metadata": {},
   "outputs": [],
   "source": [
    "f = sns.lineplot(data=data[data[\"Mode\"] == \"One\"],\n",
    "    x=\"Number of Processes\", y=\"Latency\", hue=\"Variant2\", \n",
    "    hue_order=[\"Unsafe\", \"PBFT\", \"COVER$_{Q}$\", \"COVER$_{NE}$\"],\n",
    "    style=\"Variant2\", dashes=False, markers=[\"o\"])\n",
    "f.get_legend().set_title(None)\n",
    "sns.move_legend(f, \"lower center\", ncol=4, bbox_to_anchor=(.5, 1), columnspacing=0.1, frameon=False)\n",
    "f.set(ylim=(0, 1.79))\n",
    "f.set(ylabel=\"Latency (s)\")\n",
    "figs[\"mutex-one\"] = f"
   ]
  },
  {
   "cell_type": "code",
   "execution_count": null,
   "metadata": {},
   "outputs": [],
   "source": [
    "for name, f in figs.items():\n",
    "    f.figure.savefig(f\"{name}.pdf\", bbox_inches='tight')"
   ]
  }
 ],
 "metadata": {
  "kernelspec": {
   "display_name": "Python 3",
   "language": "python",
   "name": "python3"
  },
  "language_info": {
   "codemirror_mode": {
    "name": "ipython",
    "version": 3
   },
   "file_extension": ".py",
   "mimetype": "text/x-python",
   "name": "python",
   "nbconvert_exporter": "python",
   "pygments_lexer": "ipython3",
   "version": "3.10.12"
  }
 },
 "nbformat": 4,
 "nbformat_minor": 2
}
