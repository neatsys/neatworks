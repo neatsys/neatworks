{
 "cells": [
  {
   "cell_type": "code",
   "execution_count": null,
   "metadata": {},
   "outputs": [],
   "source": [
    "import pandas as pd\n",
    "import seaborn as sns\n",
    "from glob import glob\n",
    "import matplotlib.pyplot as plt\n",
    "from matplotlib.font_manager import fontManager, FontProperties\n",
    "\n",
    "path = \"/usr/share/fonts/opentype/linux-libertine/LinBiolinum_R.otf\"\n",
    "fontManager.addfont(path)\n",
    "sns.set_theme(style=\"ticks\", font=FontProperties(fname=path).get_name(), font_scale=1.2)"
   ]
  },
  {
   "cell_type": "code",
   "execution_count": null,
   "metadata": {},
   "outputs": [],
   "source": [
    "data = pd.concat([pd.read_csv(data, names=[\n",
    "    \"Mode\", \"Variant\", \"Number of Processors\", \"Latency\"\n",
    "]) for data in glob('saved/mutex/*.txt')], ignore_index=True)\n",
    "# data"
   ]
  },
  {
   "cell_type": "markdown",
   "metadata": {},
   "source": [
    "# Latency distribution of every processor requesting once\n",
    "\n",
    "Notice the significant larger spans of replicated. All requesting are concurrent while there is a sequential causality chain of processor#1 requested-processor#1 releasing-processor#2 requested-processor#2 releasing-processor#3 requested-... since the first processor is granted with the resource. The large spans are clear indicator of replicated being a more serial system."
   ]
  },
  {
   "cell_type": "code",
   "execution_count": null,
   "metadata": {},
   "outputs": [],
   "source": [
    "# plt.figure(figsize=(12, 3))\n",
    "f = sns.boxplot(data=data[data[\"Mode\"] == \"All\"],\n",
    "    x=\"Number of Processors\", y=\"Latency\", hue=\"Variant\", \n",
    "    hue_order=[\"Untrusted\", \"Replicated\", \"Quorum\", \"NitroEnclaves\"], dodge=False)\n",
    "f.set(ylabel=\"Latency (s)\")\n",
    "f.set(ylim=(0, 28))\n",
    "f.figure.savefig(\"mutex-all.pdf\", bbox_inches='tight')"
   ]
  },
  {
   "cell_type": "markdown",
   "metadata": {},
   "source": [
    "# Latency of only one processor requesting"
   ]
  },
  {
   "cell_type": "code",
   "execution_count": null,
   "metadata": {},
   "outputs": [],
   "source": [
    "f = sns.lineplot(data=data[data[\"Mode\"] == \"One\"],\n",
    "    x=\"Number of Processors\", y=\"Latency\", hue=\"Variant\", \n",
    "    hue_order=[\"Untrusted\", \"Replicated\", \"Quorum\", \"NitroEnclaves\"],\n",
    "    style=\"Variant\", markers=[\"o\"])\n",
    "f.set(ylim=(0, 2.0))\n",
    "f.set(ylabel=\"Latency (s)\")\n",
    "f.figure.savefig(\"mutex-one.pdf\", bbox_inches='tight')"
   ]
  },
  {
   "cell_type": "markdown",
   "metadata": {},
   "source": [
    "# The measurement of system concurrency\n",
    "\n",
    "The ratio of *latency of all processors are granted once*/*latency of one processor granted*. The more flat the line is, the more requests progress concurrently.\n",
    "\n",
    "Notice that the Quorum/NitroEnclaves solutions have $N^2$ per-processor steps for collecting acquisition proof. Replicated also have $N^2$ per-processor steps for replication (though reduced by batching)."
   ]
  },
  {
   "cell_type": "code",
   "execution_count": null,
   "metadata": {},
   "outputs": [],
   "source": [
    "data_all_max_latency = data[data['Mode'] == 'All'].groupby(['Variant', 'Number of Processors']).max()\n",
    "data_one_max_latency = data[data['Mode'] == 'One'].groupby(['Variant', 'Number of Processors']).max()\n",
    "data_ratio = data_all_max_latency.merge(data_one_max_latency, how='inner', on=['Variant', 'Number of Processors'])\n",
    "data_ratio['Ratio'] = data_ratio['Latency_x'] / data_ratio['Latency_y']\n",
    "# data_ratio"
   ]
  },
  {
   "cell_type": "code",
   "execution_count": null,
   "metadata": {},
   "outputs": [],
   "source": [
    "f = sns.lineplot(data=data_ratio,\n",
    "    x=\"Number of Processors\", y=\"Ratio\", hue=\"Variant\", \n",
    "    hue_order=[\"Untrusted\", \"Replicated\", \"Quorum\", \"NitroEnclaves\"],\n",
    "    style=\"Variant\", markers=[\"o\"])"
   ]
  }
 ],
 "metadata": {
  "kernelspec": {
   "display_name": "Python 3",
   "language": "python",
   "name": "python3"
  },
  "language_info": {
   "codemirror_mode": {
    "name": "ipython",
    "version": 3
   },
   "file_extension": ".py",
   "mimetype": "text/x-python",
   "name": "python",
   "nbconvert_exporter": "python",
   "pygments_lexer": "ipython3",
   "version": "3.10.12"
  }
 },
 "nbformat": 4,
 "nbformat_minor": 2
}
