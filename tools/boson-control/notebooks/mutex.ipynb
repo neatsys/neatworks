{
 "cells": [
  {
   "cell_type": "code",
   "execution_count": null,
   "metadata": {},
   "outputs": [],
   "source": [
    "import pandas as pd\n",
    "import seaborn as sns\n",
    "from glob import glob\n",
    "import matplotlib.pyplot as plt\n",
    "from matplotlib.font_manager import fontManager, FontProperties\n",
    "\n",
    "path = \"/usr/share/fonts/opentype/linux-libertine/LinBiolinum_R.otf\"\n",
    "fontManager.addfont(path)\n",
    "sns.set_theme(style=\"ticks\", font=FontProperties(fname=path).get_name(), font_scale=1.2)"
   ]
  },
  {
   "cell_type": "code",
   "execution_count": null,
   "metadata": {},
   "outputs": [],
   "source": [
    "data = pd.concat([pd.read_csv(data, names=[\n",
    "    \"Mode\", \"Variant\", \"Number of Processors\", \"Latency\"\n",
    "]) for data in glob('mutex-*.txt')], ignore_index=True)\n",
    "data"
   ]
  },
  {
   "cell_type": "code",
   "execution_count": null,
   "metadata": {},
   "outputs": [],
   "source": [
    "# plt.figure(figsize=(12, 3))\n",
    "f = sns.boxplot(data=data[data[\"Mode\"] == \"All\"],\n",
    "    x=\"Number of Processors\", y=\"Latency\", hue=\"Variant\", \n",
    "    hue_order=[\"Untrusted\", \"Replicated\", \"Quorum\"], dodge=False)\n",
    "f.set(ylabel=\"Latency (s)\")\n",
    "f.figure.savefig(\"mutex-all.pdf\", bbox_inches='tight')"
   ]
  },
  {
   "cell_type": "code",
   "execution_count": null,
   "metadata": {},
   "outputs": [],
   "source": [
    "f = sns.lineplot(data=data[data[\"Mode\"] == \"One\"],\n",
    "    x=\"Number of Processors\", y=\"Latency\", hue=\"Variant\", \n",
    "    hue_order=[\"Untrusted\", \"Replicated\", \"Quorum\"],\n",
    "    style=\"Variant\", markers=[\"o\"])\n",
    "f.set(ylim=(0, 2.0))\n",
    "f.set(ylabel=\"Latency (s)\")\n",
    "f.figure.savefig(\"mutex-one.pdf\", bbox_inches='tight')"
   ]
  }
 ],
 "metadata": {
  "kernelspec": {
   "display_name": "Python 3",
   "language": "python",
   "name": "python3"
  },
  "language_info": {
   "codemirror_mode": {
    "name": "ipython",
    "version": 3
   },
   "file_extension": ".py",
   "mimetype": "text/x-python",
   "name": "python",
   "nbconvert_exporter": "python",
   "pygments_lexer": "ipython3",
   "version": "3.10.12"
  }
 },
 "nbformat": 4,
 "nbformat_minor": 2
}
