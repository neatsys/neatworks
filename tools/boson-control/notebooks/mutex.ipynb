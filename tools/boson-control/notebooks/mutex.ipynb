{
 "cells": [
  {
   "cell_type": "code",
   "execution_count": 6,
   "metadata": {},
   "outputs": [],
   "source": [
    "import pandas as pd\n",
    "import seaborn as sns\n",
    "from glob import glob\n",
    "from matplotlib.font_manager import fontManager, FontProperties\n",
    "\n",
    "path = \"/usr/share/fonts/opentype/linux-libertine/LinBiolinum_R.otf\"\n",
    "fontManager.addfont(path)\n",
    "sns.set_theme(style=\"ticks\", font=FontProperties(fname=path).get_name(), font_scale=1.2)"
   ]
  },
  {
   "cell_type": "code",
   "execution_count": 18,
   "metadata": {},
   "outputs": [
    {
     "data": {
      "text/html": [
       "<div>\n",
       "<style scoped>\n",
       "    .dataframe tbody tr th:only-of-type {\n",
       "        vertical-align: middle;\n",
       "    }\n",
       "\n",
       "    .dataframe tbody tr th {\n",
       "        vertical-align: top;\n",
       "    }\n",
       "\n",
       "    .dataframe thead th {\n",
       "        text-align: right;\n",
       "    }\n",
       "</style>\n",
       "<table border=\"1\" class=\"dataframe\">\n",
       "  <thead>\n",
       "    <tr style=\"text-align: right;\">\n",
       "      <th></th>\n",
       "      <th>Mode</th>\n",
       "      <th>Variant</th>\n",
       "      <th>Number of Processors</th>\n",
       "      <th>Latency</th>\n",
       "    </tr>\n",
       "  </thead>\n",
       "  <tbody>\n",
       "    <tr>\n",
       "      <th>0</th>\n",
       "      <td>All</td>\n",
       "      <td>Quorum</td>\n",
       "      <td>10</td>\n",
       "      <td>0.415172</td>\n",
       "    </tr>\n",
       "    <tr>\n",
       "      <th>1</th>\n",
       "      <td>All</td>\n",
       "      <td>Quorum</td>\n",
       "      <td>10</td>\n",
       "      <td>0.414588</td>\n",
       "    </tr>\n",
       "    <tr>\n",
       "      <th>2</th>\n",
       "      <td>All</td>\n",
       "      <td>Quorum</td>\n",
       "      <td>10</td>\n",
       "      <td>0.498987</td>\n",
       "    </tr>\n",
       "    <tr>\n",
       "      <th>3</th>\n",
       "      <td>All</td>\n",
       "      <td>Quorum</td>\n",
       "      <td>10</td>\n",
       "      <td>0.509419</td>\n",
       "    </tr>\n",
       "    <tr>\n",
       "      <th>4</th>\n",
       "      <td>All</td>\n",
       "      <td>Quorum</td>\n",
       "      <td>10</td>\n",
       "      <td>0.617222</td>\n",
       "    </tr>\n",
       "    <tr>\n",
       "      <th>...</th>\n",
       "      <td>...</td>\n",
       "      <td>...</td>\n",
       "      <td>...</td>\n",
       "      <td>...</td>\n",
       "    </tr>\n",
       "    <tr>\n",
       "      <th>6835</th>\n",
       "      <td>All</td>\n",
       "      <td>Untrusted</td>\n",
       "      <td>80</td>\n",
       "      <td>1.849330</td>\n",
       "    </tr>\n",
       "    <tr>\n",
       "      <th>6836</th>\n",
       "      <td>All</td>\n",
       "      <td>Untrusted</td>\n",
       "      <td>80</td>\n",
       "      <td>1.988432</td>\n",
       "    </tr>\n",
       "    <tr>\n",
       "      <th>6837</th>\n",
       "      <td>All</td>\n",
       "      <td>Untrusted</td>\n",
       "      <td>80</td>\n",
       "      <td>1.992542</td>\n",
       "    </tr>\n",
       "    <tr>\n",
       "      <th>6838</th>\n",
       "      <td>All</td>\n",
       "      <td>Untrusted</td>\n",
       "      <td>80</td>\n",
       "      <td>2.132603</td>\n",
       "    </tr>\n",
       "    <tr>\n",
       "      <th>6839</th>\n",
       "      <td>All</td>\n",
       "      <td>Untrusted</td>\n",
       "      <td>80</td>\n",
       "      <td>2.272030</td>\n",
       "    </tr>\n",
       "  </tbody>\n",
       "</table>\n",
       "<p>6840 rows × 4 columns</p>\n",
       "</div>"
      ],
      "text/plain": [
       "     Mode    Variant  Number of Processors   Latency\n",
       "0     All     Quorum                    10  0.415172\n",
       "1     All     Quorum                    10  0.414588\n",
       "2     All     Quorum                    10  0.498987\n",
       "3     All     Quorum                    10  0.509419\n",
       "4     All     Quorum                    10  0.617222\n",
       "...   ...        ...                   ...       ...\n",
       "6835  All  Untrusted                    80  1.849330\n",
       "6836  All  Untrusted                    80  1.988432\n",
       "6837  All  Untrusted                    80  1.992542\n",
       "6838  All  Untrusted                    80  2.132603\n",
       "6839  All  Untrusted                    80  2.272030\n",
       "\n",
       "[6840 rows x 4 columns]"
      ]
     },
     "execution_count": 18,
     "metadata": {},
     "output_type": "execute_result"
    }
   ],
   "source": [
    "data = pd.concat([pd.read_csv(data, names=[\n",
    "    \"Mode\", \"Variant\", \"Number of Processors\", \"Latency\"\n",
    "]) for data in glob('mutex-*.txt')], ignore_index=True)\n",
    "data"
   ]
  },
  {
   "cell_type": "code",
   "execution_count": 19,
   "metadata": {},
   "outputs": [
    {
     "data": {
      "text/plain": [
       "<Axes: xlabel='Number of Processors', ylabel='Latency'>"
      ]
     },
     "execution_count": 19,
     "metadata": {},
     "output_type": "execute_result"
    },
    {
     "data": {
      "image/png": "[encoded data removed]",
      "text/plain": [
       "<Figure size 640x480 with 1 Axes>"
      ]
     },
     "metadata": {},
     "output_type": "display_data"
    }
   ],
   "source": [
    "sns.boxplot(data=data[data[\"Mode\"] == \"All\"],\n",
    "    x=\"Number of Processors\", y=\"Latency\", hue=\"Variant\", \n",
    "    hue_order=[\"Untrusted\", \"Replicated\", \"Quorum\"])"
   ]
  },
  {
   "cell_type": "code",
   "execution_count": null,
   "metadata": {},
   "outputs": [],
   "source": [
    "sns.boxplot(data=data[data[\"Mode\"] == \"One\"],\n",
    "    x=\"Number of Processors\", y=\"Latency\", hue=\"Variant\", \n",
    "    hue_order=[\"Untrusted\", \"Replicated\", \"Quorum\"])"
   ]
  }
 ],
 "metadata": {
  "kernelspec": {
   "display_name": "Python 3",
   "language": "python",
   "name": "python3"
  },
  "language_info": {
   "codemirror_mode": {
    "name": "ipython",
    "version": 3
   },
   "file_extension": ".py",
   "mimetype": "text/x-python",
   "name": "python",
   "nbconvert_exporter": "python",
   "pygments_lexer": "ipython3",
   "version": "3.10.12"
  }
 },
 "nbformat": 4,
 "nbformat_minor": 2
}
