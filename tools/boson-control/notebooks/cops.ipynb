{
 "cells": [
  {
   "cell_type": "code",
   "execution_count": null,
   "metadata": {},
   "outputs": [],
   "source": [
    "import pandas as pd\n",
    "import seaborn as sns\n",
    "from glob import glob\n",
    "import matplotlib.pyplot as plt\n",
    "from matplotlib.font_manager import fontManager, FontProperties\n",
    "\n",
    "path = \"/usr/share/fonts/opentype/linux-libertine/LinLibertine_R.otf\"\n",
    "fontManager.addfont(path)\n",
    "sns.set_theme(style=\"ticks\", font=FontProperties(fname=path).get_name(), font_scale=1.9)\n",
    "plt.rcParams[\"mathtext.fontset\"] = \"stix\""
   ]
  },
  {
   "cell_type": "markdown",
   "metadata": {},
   "source": [
    "#### Throughput - Latency\n",
    "With 1% put operations"
   ]
  },
  {
   "cell_type": "code",
   "execution_count": null,
   "metadata": {},
   "outputs": [],
   "source": [
    "figs = {}\n",
    "data = pd.concat([pd.read_csv(data, names=[\n",
    "    \"Variant\", \"Regions\", \"#Client/Region\", \"Put Ratio\", \"Throughput\", \"Latency\"\n",
    "]) for data in glob('saved/cops/*.txt')], ignore_index=True)\n",
    "data = data.sort_values([\"Variant\", \"Regions\", \"#Client/Region\"])\n",
    "def official_variant(row):\n",
    "    return {\"Untrusted\": \"Unsafe\", \"Replicated\": \"PBFT\", \"Quorum\": \"COVER$_{Q}$\", \"NitroEnclaves\": \"COVER$_{NE}$\"}[row.at[\"Variant\"]]\n",
    "data[\"Variant\"] = data.apply(official_variant, axis=1)\n",
    "data[\"Latency (ms)\"] = data[\"Latency\"] * 1000\n",
    "# data"
   ]
  },
  {
   "cell_type": "code",
   "execution_count": null,
   "metadata": {},
   "outputs": [],
   "source": [
    "def f():\n",
    "    f = sns.lineplot(\n",
    "    data=data[(data[\"Put Ratio\"] == 0.01) & (data[\"Regions\"] == \"af+ap+eu+sa+us\")],\n",
    "    x=\"Throughput\", y=\"Latency (ms)\", sort=False,\n",
    "    hue=\"Variant\", \n",
    "    hue_order=[\"Unsafe\", \"PBFT\", \"COVER$_{Q}$\", \"COVER$_{NE}$\"],\n",
    "    style=\"Variant\", markers=['o'], dashes=False, linewidth=2.5)\n",
    "    f.get_legend().set_title(None)\n",
    "    f.set(xlabel=\"Throughput (Kop/second)\", xticks=[1000 * 100 * n for n in range(5)], xticklabels=[str(100 * n) for n in range(5)])\n",
    "    return f\n",
    "figs[\"cops-throughput-latency\"] = f()"
   ]
  },
  {
   "cell_type": "code",
   "execution_count": null,
   "metadata": {},
   "outputs": [],
   "source": [
    "f_low = f()\n",
    "f_low.set(ylim=(0, 110))\n",
    "f_low.get_legend().remove()\n",
    "figs[\"cops-throughput-latency-low\"] = f_low"
   ]
  },
  {
   "cell_type": "markdown",
   "metadata": {},
   "source": [
    "#### Region-wise Scalability\n",
    "Maximum throughput with 1% put. The throughputs are normalized against the throughput of running only in af region."
   ]
  },
  {
   "cell_type": "code",
   "execution_count": null,
   "metadata": {},
   "outputs": [],
   "source": [
    "region_data = data[data[\"Put Ratio\"] == 0.01].groupby([\"Variant\", \"Regions\"]).max(\"Throughput\").reset_index()\n",
    "def normalized_throughput(row):\n",
    "    variant = row.at['Variant']\n",
    "    one_row = region_data[(region_data['Variant'] == variant) & (region_data['Regions'] == \"af\")]\n",
    "    one = one_row[\"Throughput\"].values[0]\n",
    "    return row.at['Throughput'] / one\n",
    "region_data[\"Normalized Throughput\"] = region_data.apply(normalized_throughput, axis=1)\n",
    "# region_data"
   ]
  },
  {
   "cell_type": "code",
   "execution_count": null,
   "metadata": {},
   "outputs": [],
   "source": [
    "f = sns.barplot(data=region_data,\n",
    "    x=\"Regions\", y=\"Normalized Throughput\", hue=\"Variant\",\n",
    "    hue_order=[\"Unsafe\", \"PBFT\", \"COVER$_{Q}$\", \"COVER$_{NE}$\"])\n",
    "f.get_legend().set_title(None)\n",
    "f.set_xticklabels(f.get_xticklabels(), rotation=10)\n",
    "figs[\"cops-region\"] = f"
   ]
  },
  {
   "cell_type": "markdown",
   "metadata": {},
   "source": [
    "#### Put Ratio"
   ]
  },
  {
   "cell_type": "code",
   "execution_count": null,
   "metadata": {},
   "outputs": [],
   "source": [
    "ratio_data = data[data[\"Regions\"] == \"af+ap+eu+sa+us\"].groupby([\"Variant\", \"Put Ratio\"]).max(\"Throughput\").reset_index()\n",
    "# ratio_data"
   ]
  },
  {
   "cell_type": "code",
   "execution_count": null,
   "metadata": {},
   "outputs": [],
   "source": [
    "f = sns.lineplot(data=ratio_data,\n",
    "    x=\"Put Ratio\", y=\"Throughput\", hue=\"Variant\",\n",
    "    hue_order=[\"Unsafe\", \"PBFT\", \"COVER$_{Q}$\", \"COVER$_{NE}$\"],\n",
    "    style=\"Variant\", markers=['o'], dashes=False)\n",
    "f.get_legend().set_title(None)\n",
    "f.set(xscale=\"log\")\n",
    "f.set(ylabel=\"Throughput (Kop/second)\", yticks=[1000 * 100 * x for x in range(5)], yticklabels=[100 * x for x in range(5)])\n",
    "figs[\"cops-ratio\"] = f"
   ]
  },
  {
   "cell_type": "code",
   "execution_count": null,
   "metadata": {},
   "outputs": [],
   "source": [
    "for name, f in figs.items():\n",
    "    f.figure.savefig(f\"{name}.pdf\", bbox_inches='tight')"
   ]
  }
 ],
 "metadata": {
  "kernelspec": {
   "display_name": "Python 3",
   "language": "python",
   "name": "python3"
  },
  "language_info": {
   "codemirror_mode": {
    "name": "ipython",
    "version": 3
   },
   "file_extension": ".py",
   "mimetype": "text/x-python",
   "name": "python",
   "nbconvert_exporter": "python",
   "pygments_lexer": "ipython3",
   "version": "3.10.12"
  }
 },
 "nbformat": 4,
 "nbformat_minor": 2
}
