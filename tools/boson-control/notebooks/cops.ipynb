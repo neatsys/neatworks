{
 "cells": [
  {
   "cell_type": "code",
   "execution_count": null,
   "metadata": {},
   "outputs": [],
   "source": [
    "import pandas as pd\n",
    "import seaborn as sns\n",
    "from glob import glob\n",
    "from matplotlib.font_manager import fontManager, FontProperties\n",
    "\n",
    "path = \"/usr/share/fonts/opentype/linux-libertine/LinBiolinum_R.otf\"\n",
    "fontManager.addfont(path)\n",
    "sns.set_theme(style=\"ticks\", font=FontProperties(fname=path).get_name(), font_scale=1.2)"
   ]
  },
  {
   "cell_type": "code",
   "execution_count": null,
   "metadata": {},
   "outputs": [],
   "source": [
    "data = pd.concat([pd.read_csv(data, names=[\n",
    "    \"Variant\", \"#Replica/Region\", \"#Client/Region\", \"#PutClient/Region\", \"Throughput\", \"Latency\"\n",
    "]) for data in glob('cops-*.txt')], ignore_index=True)\n",
    "data[\"Put %\"] = data[\"#PutClient/Region\"] / 2 / data[\"#Client/Region\"] * 100\n",
    "data = data.sort_values(by=\"Latency\")\n",
    "data[\"Latency (ms)\"] = data[\"Latency\"] * 1000\n",
    "data"
   ]
  },
  {
   "cell_type": "code",
   "execution_count": null,
   "metadata": {},
   "outputs": [],
   "source": [
    "f = sns.lineplot(data=data[data[\"Put %\"] == 20],\n",
    "    x=\"Throughput\", y=\"Latency (ms)\", sort=False,\n",
    "    hue=\"Variant\", style=\"Variant\", markers=['o'], linewidth=2.5,\n",
    "    hue_order=[\"Untrusted\", \"Replicated (local)\", \"Quorum\"])\n",
    "# sns.move_legend(f, \"upper left\")\n",
    "# f.set(xlim=(0, 110000), ylim=(0, 0.013))\n",
    "f.set(xlim=(0, 110000), ylim=(0.5, 600), yscale=\"log\")\n",
    "f.axhline(450, color=\"red\", linestyle=\"--\")\n",
    "f.set(xticklabels=[\"0\", \"20K\", \"40K\", \"60K\", \"80K\", \"100K\"])\n",
    "f.set(xlabel=\"Thoughput (op/sec)\")\n",
    "\n",
    "f.figure.savefig(\"throughput-latency.pdf\", bbox_inches='tight')"
   ]
  },
  {
   "cell_type": "code",
   "execution_count": null,
   "metadata": {},
   "outputs": [],
   "source": [
    "f = sns.lineplot(data=data.groupby([\"Put %\", \"Variant\"]).max(),\n",
    "    x=\"Put %\", y=\"Throughput\", hue=\"Variant\", style=\"Variant\", markers=['o'],\n",
    "    hue_order=[\"Untrusted\", \"Replicated (local)\", \"Quorum\"])\n",
    "f.set(ylim=(0, 380000))\n",
    "f.set(yticklabels=[0] + [f\"{x}K\" for x in range(50, 351, 50)])\n",
    "f.figure.savefig(\"ratio.pdf\", bbox_inches='tight')\n"
   ]
  }
 ],
 "metadata": {
  "kernelspec": {
   "display_name": "Python 3",
   "language": "python",
   "name": "python3"
  },
  "language_info": {
   "codemirror_mode": {
    "name": "ipython",
    "version": 3
   },
   "file_extension": ".py",
   "mimetype": "text/x-python",
   "name": "python",
   "nbconvert_exporter": "python",
   "pygments_lexer": "ipython3",
   "version": "3.8.10"
  }
 },
 "nbformat": 4,
 "nbformat_minor": 2
}
