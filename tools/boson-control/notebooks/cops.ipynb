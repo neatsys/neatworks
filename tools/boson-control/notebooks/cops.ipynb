{
 "cells": [
  {
   "cell_type": "code",
   "execution_count": null,
   "metadata": {},
   "outputs": [],
   "source": [
    "import pandas as pd\n",
    "import seaborn as sns\n",
    "from glob import glob\n",
    "from matplotlib.font_manager import fontManager, FontProperties\n",
    "\n",
    "path = \"/usr/share/fonts/opentype/linux-libertine/LinBiolinum_R.otf\"\n",
    "fontManager.addfont(path)\n",
    "sns.set_theme(style=\"ticks\", font=FontProperties(fname=path).get_name(), font_scale=1.2)"
   ]
  },
  {
   "cell_type": "code",
   "execution_count": null,
   "metadata": {},
   "outputs": [],
   "source": [
    "data = pd.concat([pd.read_csv(data, names=[\n",
    "    \"Variant\", \"Regions\", \"#Client/Region\", \"Put Ratio\", \"Throughput\", \"Latency\"\n",
    "]) for data in glob('saved/cops/*.txt')], ignore_index=True)\n",
    "data = data.sort_values([\"Variant\", \"Regions\", \"#Client/Region\"])\n",
    "data[\"Latency (ms)\"] = data[\"Latency\"] * 1000\n",
    "data"
   ]
  },
  {
   "cell_type": "code",
   "execution_count": null,
   "metadata": {},
   "outputs": [],
   "source": [
    "f = sns.lineplot(\n",
    "    data=data[(data[\"Put Ratio\"] == 0.01) & (data[\"Regions\"] == \"af+ap+eu+sa+us\")],\n",
    "    x=\"Throughput\", y=\"Latency (ms)\", sort=False,\n",
    "    hue=\"Variant\", \n",
    "    style=\"Variant\", markers=['o'], linewidth=2.5,\n",
    "    hue_order=[\"Untrusted\", \"Replicated\", \"Quorum\", \"NitroEnclaves\"])\n",
    "f.set(ylim=(0, 110))\n",
    "# f.figure.savefig(\"throughput-latency.pdf\", bbox_inches='tight')"
   ]
  },
  {
   "cell_type": "code",
   "execution_count": null,
   "metadata": {},
   "outputs": [],
   "source": [
    "region_data = data[data[\"Put Ratio\"] == 0.01].groupby([\"Variant\", \"Regions\"]).max(\"Throughput\").reset_index()\n",
    "def normalized_throughput(row):\n",
    "    variant = row.at['Variant']\n",
    "    # TODO\n",
    "    if variant == \"Replicated\":\n",
    "        return 1\n",
    "    one_row = region_data[(region_data['Variant'] == variant) & (region_data['Regions'] == \"af\")]\n",
    "    one = one_row[\"Throughput\"].values[0]\n",
    "    return row.at['Throughput'] / one\n",
    "region_data[\"Normalized Throughput\"] = region_data.apply(normalized_throughput, axis=1)\n",
    "region_data"
   ]
  },
  {
   "cell_type": "code",
   "execution_count": null,
   "metadata": {},
   "outputs": [],
   "source": [
    "sns.barplot(data=region_data,\n",
    "    x=\"Regions\", y=\"Normalized Throughput\", hue=\"Variant\",\n",
    "    hue_order=[\"Untrusted\", \"Replicated\", \"Quorum\", \"NitroEnclaves\"])"
   ]
  },
  {
   "cell_type": "code",
   "execution_count": null,
   "metadata": {},
   "outputs": [],
   "source": [
    "ratio_data = data[data[\"Regions\"] == \"af+ap+eu+sa+us\"].groupby([\"Variant\", \"Put Ratio\"]).max(\"Throughput\").reset_index()\n",
    "ratio_data"
   ]
  },
  {
   "cell_type": "code",
   "execution_count": null,
   "metadata": {},
   "outputs": [],
   "source": [
    "f = sns.lineplot(data=ratio_data,\n",
    "    x=\"Put Ratio\", y=\"Throughput\", hue=\"Variant\",\n",
    "    hue_order=[\"Untrusted\", \"Replicated\", \"Quorum\", \"NitroEnclaves\"],\n",
    "    style=\"Variant\", markers=['o'])\n",
    "f.set(xscale=\"log\")"
   ]
  }
 ],
 "metadata": {
  "kernelspec": {
   "display_name": "Python 3",
   "language": "python",
   "name": "python3"
  },
  "language_info": {
   "codemirror_mode": {
    "name": "ipython",
    "version": 3
   },
   "file_extension": ".py",
   "mimetype": "text/x-python",
   "name": "python",
   "nbconvert_exporter": "python",
   "pygments_lexer": "ipython3",
   "version": "3.10.12"
  }
 },
 "nbformat": 4,
 "nbformat_minor": 2
}
