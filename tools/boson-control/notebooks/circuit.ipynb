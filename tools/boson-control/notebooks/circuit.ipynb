{
 "cells": [
  {
   "cell_type": "code",
   "execution_count": null,
   "metadata": {},
   "outputs": [],
   "source": [
    "import pandas as pd\n",
    "import seaborn as sns\n",
    "from glob import glob\n",
    "import matplotlib.pyplot as plt\n",
    "from matplotlib.font_manager import fontManager, FontProperties\n",
    "\n",
    "path = \"/usr/share/fonts/opentype/linux-libertine/LinBiolinum_R.otf\"\n",
    "fontManager.addfont(path)\n",
    "sns.set_theme(style=\"ticks\", font=FontProperties(fname=path).get_name(), font_scale=1.2)\n",
    "plt.rcParams[\"mathtext.fontset\"] = \"stix\""
   ]
  },
  {
   "cell_type": "code",
   "execution_count": null,
   "metadata": {},
   "outputs": [],
   "source": [
    "data = pd.concat([pd.read_csv(data, names=[\n",
    "    \"Number of Threads\", \"Number of $id$\", \"Prove Time\"\n",
    "]) for data in glob('circuit-*.txt')], ignore_index=True)\n",
    "data[\"style\"] = True\n",
    "data"
   ]
  },
  {
   "cell_type": "code",
   "execution_count": null,
   "metadata": {},
   "outputs": [],
   "source": [
    "plt.figure(figsize=(4, 3))\n",
    "f = sns.lineplot(data=data[(data[\"Number of Threads\"] == 64) & (data[\"Number of $id$\"] >= 256)], \n",
    "    x=\"Number of $id$\", y=\"Prove Time\", style=\"style\", markers=[\"o\"], legend=False)\n",
    "f.set(ylim=(0, 13.), xscale=\"log\")\n",
    "f.set(ylabel=\"Prove Time (s)\")\n",
    "f.figure.savefig(\"id-prove.pdf\", bbox_inches='tight')"
   ]
  },
  {
   "cell_type": "code",
   "execution_count": null,
   "metadata": {},
   "outputs": [],
   "source": [
    "plt.figure(figsize=(4, 3))\n",
    "f = sns.lineplot(data=data[data[\"Number of $id$\"] == 1024], \n",
    "    x=\"Number of Threads\", y=\"Prove Time\", style=\"style\", markers=[\"o\"], legend=False)\n",
    "f.set(ylim=(0, 18.1))\n",
    "f.set(ylabel=\"Prove Time (s)\")\n",
    "f.figure.savefig(\"thread-prove.pdf\", bbox_inches='tight')\n"
   ]
  }
 ],
 "metadata": {
  "kernelspec": {
   "display_name": "Python 3",
   "language": "python",
   "name": "python3"
  },
  "language_info": {
   "codemirror_mode": {
    "name": "ipython",
    "version": 3
   },
   "file_extension": ".py",
   "mimetype": "text/x-python",
   "name": "python",
   "nbconvert_exporter": "python",
   "pygments_lexer": "ipython3",
   "version": "3.8.10"
  }
 },
 "nbformat": 4,
 "nbformat_minor": 2
}
